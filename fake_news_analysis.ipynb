{
 "cells": [
  {
   "cell_type": "markdown",
   "id": "6dce9c8e",
   "metadata": {},
   "source": [
    "## Fake News Analysis Model\n",
    "\n",
    "This models aims to detect the validity of articles based upon writing patterns."
   ]
  },
  {
   "cell_type": "markdown",
   "id": "3acc988a",
   "metadata": {},
   "source": [
    "1. Loading data from csv file and filter out empty rows, split the data in training and test split.\n"
   ]
  },
  {
   "cell_type": "code",
   "execution_count": 8,
   "id": "12c8d5a3",
   "metadata": {},
   "outputs": [],
   "source": [
    "from datasets import load_dataset\n",
    "\n",
    "dataset = load_dataset(\"csv\", data_files=\"data\\WELFake_Dataset.csv\")\n",
    "\n",
    "def filter_empty(data):\n",
    "    return (data[\"title\"] is not None) and (data[\"text\"] is not None)\n",
    "\n",
    "dataset = dataset.filter(filter_empty)\n",
    "\n",
    "split_dataset = dataset[\"train\"].train_test_split(test_size=0.2)\n"
   ]
  },
  {
   "cell_type": "markdown",
   "id": "9ff74d06",
   "metadata": {},
   "source": [
    "2. Import Bertokenizer (specific autotokenizer for BERT models), convert articles from data to tokenized training and test dicts."
   ]
  },
  {
   "cell_type": "code",
   "execution_count": 9,
   "id": "dd4d034a",
   "metadata": {},
   "outputs": [
    {
     "name": "stderr",
     "output_type": "stream",
     "text": [
      "Map: 100%|██████████| 57229/57229 [08:57<00:00, 106.38 examples/s]\n",
      "Map: 100%|██████████| 14308/14308 [02:11<00:00, 108.58 examples/s]\n"
     ]
    }
   ],
   "source": [
    "from transformers import BertTokenizer\n",
    "from datasets import DatasetDict\n",
    "\n",
    "\n",
    "tokenizer = BertTokenizer.from_pretrained(\"bert-base-uncased\")\n",
    "\n",
    "def tokenize_fn(batch):\n",
    "    full_texts = [t + \" \" + x for t, x in zip(batch[\"title\"], batch[\"text\"])]\n",
    "    return tokenizer(full_texts, truncation=True, padding=\"max_length\", max_length=512)\n",
    "\n",
    "tokenized_dataset = DatasetDict({\n",
    "    \"train\": split_dataset[\"train\"].map(tokenize_fn, batched=True),\n",
    "    \"test\": split_dataset[\"test\"].map(tokenize_fn, batched=True)\n",
    "})"
   ]
  },
  {
   "cell_type": "markdown",
   "id": "6f0c3dd1",
   "metadata": {},
   "source": [
    "3. Import BERT, use pretrained weights"
   ]
  },
  {
   "cell_type": "code",
   "execution_count": 10,
   "id": "ff71de00",
   "metadata": {},
   "outputs": [
    {
     "name": "stderr",
     "output_type": "stream",
     "text": [
      "Some weights of BertForSequenceClassification were not initialized from the model checkpoint at bert-base-uncased and are newly initialized: ['classifier.bias', 'classifier.weight']\n",
      "You should probably TRAIN this model on a down-stream task to be able to use it for predictions and inference.\n"
     ]
    }
   ],
   "source": [
    "from transformers import BertForSequenceClassification\n",
    "\n",
    "model = BertForSequenceClassification.from_pretrained(\"bert-base-uncased\", num_labels=2)"
   ]
  },
  {
   "cell_type": "markdown",
   "id": "5397e3ac",
   "metadata": {},
   "source": [
    "4. If nvidia GPU is available move to GPU, else stay on CPU"
   ]
  },
  {
   "cell_type": "code",
   "execution_count": 11,
   "id": "f8d6968b",
   "metadata": {},
   "outputs": [
    {
     "data": {
      "text/plain": [
       "BertForSequenceClassification(\n",
       "  (bert): BertModel(\n",
       "    (embeddings): BertEmbeddings(\n",
       "      (word_embeddings): Embedding(30522, 768, padding_idx=0)\n",
       "      (position_embeddings): Embedding(512, 768)\n",
       "      (token_type_embeddings): Embedding(2, 768)\n",
       "      (LayerNorm): LayerNorm((768,), eps=1e-12, elementwise_affine=True)\n",
       "      (dropout): Dropout(p=0.1, inplace=False)\n",
       "    )\n",
       "    (encoder): BertEncoder(\n",
       "      (layer): ModuleList(\n",
       "        (0-11): 12 x BertLayer(\n",
       "          (attention): BertAttention(\n",
       "            (self): BertSdpaSelfAttention(\n",
       "              (query): Linear(in_features=768, out_features=768, bias=True)\n",
       "              (key): Linear(in_features=768, out_features=768, bias=True)\n",
       "              (value): Linear(in_features=768, out_features=768, bias=True)\n",
       "              (dropout): Dropout(p=0.1, inplace=False)\n",
       "            )\n",
       "            (output): BertSelfOutput(\n",
       "              (dense): Linear(in_features=768, out_features=768, bias=True)\n",
       "              (LayerNorm): LayerNorm((768,), eps=1e-12, elementwise_affine=True)\n",
       "              (dropout): Dropout(p=0.1, inplace=False)\n",
       "            )\n",
       "          )\n",
       "          (intermediate): BertIntermediate(\n",
       "            (dense): Linear(in_features=768, out_features=3072, bias=True)\n",
       "            (intermediate_act_fn): GELUActivation()\n",
       "          )\n",
       "          (output): BertOutput(\n",
       "            (dense): Linear(in_features=3072, out_features=768, bias=True)\n",
       "            (LayerNorm): LayerNorm((768,), eps=1e-12, elementwise_affine=True)\n",
       "            (dropout): Dropout(p=0.1, inplace=False)\n",
       "          )\n",
       "        )\n",
       "      )\n",
       "    )\n",
       "    (pooler): BertPooler(\n",
       "      (dense): Linear(in_features=768, out_features=768, bias=True)\n",
       "      (activation): Tanh()\n",
       "    )\n",
       "  )\n",
       "  (dropout): Dropout(p=0.1, inplace=False)\n",
       "  (classifier): Linear(in_features=768, out_features=2, bias=True)\n",
       ")"
      ]
     },
     "execution_count": 11,
     "metadata": {},
     "output_type": "execute_result"
    }
   ],
   "source": [
    "import torch\n",
    "\n",
    "device = torch.device(\"cuda\" if torch.cuda.is_available() else \"cpu\")\n",
    "model.to(device) "
   ]
  },
  {
   "cell_type": "markdown",
   "id": "412f53e1",
   "metadata": {},
   "source": [
    "5. use sklearn.metrics for basic evaluation"
   ]
  },
  {
   "cell_type": "code",
   "execution_count": 12,
   "id": "1220a303",
   "metadata": {},
   "outputs": [],
   "source": [
    "from sklearn.metrics import accuracy_score, precision_recall_fscore_support\n",
    "\n",
    "def compute_metrics(pred):\n",
    "    labels = pred.label_ids\n",
    "    preds = pred.predictions.argmax(-1)\n",
    "    precision, recall, f1, _ = precision_recall_fscore_support(labels, preds, average='binary')\n",
    "    acc = accuracy_score(labels, preds)\n",
    "    return {\n",
    "        'accuracy': acc,\n",
    "        'precision': precision,\n",
    "        'recall': recall,\n",
    "        'f1': f1,\n",
    "    }"
   ]
  },
  {
   "cell_type": "markdown",
   "id": "6bffb4ed",
   "metadata": {},
   "source": [
    "6. Use huggingface trainer api for training, specify trainingarguments, train model, safe best model"
   ]
  },
  {
   "cell_type": "code",
   "execution_count": null,
   "id": "1df62a7e",
   "metadata": {},
   "outputs": [
    {
     "data": {
      "text/html": [
       "\n",
       "    <div>\n",
       "      \n",
       "      <progress value='35770' max='35770' style='width:300px; height:20px; vertical-align: middle;'></progress>\n",
       "      [35770/35770 22:39:20, Epoch 5/5]\n",
       "    </div>\n",
       "    <table border=\"1\" class=\"dataframe\">\n",
       "  <thead>\n",
       " <tr style=\"text-align: left;\">\n",
       "      <th>Epoch</th>\n",
       "      <th>Training Loss</th>\n",
       "      <th>Validation Loss</th>\n",
       "      <th>Accuracy</th>\n",
       "      <th>Precision</th>\n",
       "      <th>Recall</th>\n",
       "      <th>F1</th>\n",
       "    </tr>\n",
       "  </thead>\n",
       "  <tbody>\n",
       "    <tr>\n",
       "      <td>1</td>\n",
       "      <td>0.037900</td>\n",
       "      <td>0.044022</td>\n",
       "      <td>0.990355</td>\n",
       "      <td>0.999019</td>\n",
       "      <td>0.981951</td>\n",
       "      <td>0.990411</td>\n",
       "    </tr>\n",
       "    <tr>\n",
       "      <td>2</td>\n",
       "      <td>0.000600</td>\n",
       "      <td>0.016271</td>\n",
       "      <td>0.996575</td>\n",
       "      <td>0.993970</td>\n",
       "      <td>0.999311</td>\n",
       "      <td>0.996633</td>\n",
       "    </tr>\n",
       "    <tr>\n",
       "      <td>3</td>\n",
       "      <td>0.007200</td>\n",
       "      <td>0.019461</td>\n",
       "      <td>0.996785</td>\n",
       "      <td>0.997517</td>\n",
       "      <td>0.996142</td>\n",
       "      <td>0.996829</td>\n",
       "    </tr>\n",
       "    <tr>\n",
       "      <td>4</td>\n",
       "      <td>0.000000</td>\n",
       "      <td>0.017923</td>\n",
       "      <td>0.997484</td>\n",
       "      <td>0.997932</td>\n",
       "      <td>0.997107</td>\n",
       "      <td>0.997519</td>\n",
       "    </tr>\n",
       "    <tr>\n",
       "      <td>5</td>\n",
       "      <td>0.000000</td>\n",
       "      <td>0.021790</td>\n",
       "      <td>0.997484</td>\n",
       "      <td>0.997794</td>\n",
       "      <td>0.997244</td>\n",
       "      <td>0.997519</td>\n",
       "    </tr>\n",
       "  </tbody>\n",
       "</table><p>"
      ],
      "text/plain": [
       "<IPython.core.display.HTML object>"
      ]
     },
     "metadata": {},
     "output_type": "display_data"
    }
   ],
   "source": [
    "from transformers import TrainingArguments, Trainer\n",
    "\n",
    "training_args = TrainingArguments(\n",
    "    output_dir=\"./results\",\n",
    "    eval_strategy=\"epoch\",\n",
    "    save_strategy=\"epoch\",\n",
    "    learning_rate=2e-5,\n",
    "    per_device_train_batch_size=8,\n",
    "    num_train_epochs=5,  \n",
    "    weight_decay=0.01,\n",
    "    load_best_model_at_end=True,\n",
    "    metric_for_best_model=\"eval_loss\",\n",
    "    greater_is_better=False,\n",
    "    logging_dir=\"./logs\",\n",
    "    logging_steps=50,\n",
    ")\n",
    "\n",
    "trainer = Trainer(\n",
    "    model=model,\n",
    "    args=training_args,\n",
    "    train_dataset=tokenized_dataset[\"train\"],\n",
    "    eval_dataset=tokenized_dataset[\"test\"],\n",
    "    compute_metrics=compute_metrics,\n",
    ")\n",
    "\n",
    "\n",
    "trainer.train() \n",
    "trainer.save_model(\"./bert-fake-news\")\n"
   ]
  },
  {
   "cell_type": "markdown",
   "id": "da9d4386",
   "metadata": {},
   "source": [
    "7. print basic evalution"
   ]
  },
  {
   "cell_type": "code",
   "execution_count": null,
   "id": "117186f5",
   "metadata": {},
   "outputs": [
    {
     "data": {
      "text/html": [],
      "text/plain": [
       "<IPython.core.display.HTML object>"
      ]
     },
     "metadata": {},
     "output_type": "display_data"
    },
    {
     "name": "stdout",
     "output_type": "stream",
     "text": [
      "{'test_loss': 0.027281897142529488, 'test_runtime': 580.1707, 'test_samples_per_second': 24.662, 'test_steps_per_second': 3.084}\n"
     ]
    }
   ],
   "source": [
    "preds = trainer.predict(tokenized_dataset[\"test\"])\n",
    "print(preds.metrics)"
   ]
  }
 ],
 "metadata": {
  "kernelspec": {
   "display_name": "Python 3",
   "language": "python",
   "name": "python3"
  },
  "language_info": {
   "codemirror_mode": {
    "name": "ipython",
    "version": 3
   },
   "file_extension": ".py",
   "mimetype": "text/x-python",
   "name": "python",
   "nbconvert_exporter": "python",
   "pygments_lexer": "ipython3",
   "version": "3.11.9"
  }
 },
 "nbformat": 4,
 "nbformat_minor": 5
}
